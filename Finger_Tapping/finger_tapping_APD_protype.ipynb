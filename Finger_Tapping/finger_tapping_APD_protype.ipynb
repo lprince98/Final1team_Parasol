{
 "cells": [
  {
   "cell_type": "markdown",
   "id": "39faabab",
   "metadata": {},
   "source": [
    "# *Finger-Tapping for Atypical Parkinsonism*"
   ]
  },
  {
   "cell_type": "code",
   "execution_count": 1,
   "id": "8ce7fff6",
   "metadata": {},
   "outputs": [],
   "source": [
    "import cv2 as cv\n",
    "import mediapipe as mp"
   ]
  },
  {
   "cell_type": "code",
   "execution_count": 2,
   "id": "ad42be15",
   "metadata": {},
   "outputs": [],
   "source": [
    "mp_hand = mp.solutions.hands\n",
    "mp_drawing = mp.solutions.drawing_utils\n",
    "mp_styles = mp.solutions.drawing_styles"
   ]
  },
  {
   "cell_type": "code",
   "execution_count": 3,
   "id": "703720a8",
   "metadata": {},
   "outputs": [],
   "source": [
    "hand = mp_hand.Hands(max_num_hands = 2, static_image_mode = False, min_detection_confidence = 0.5, min_tracking_confidence=0.5)"
   ]
  },
  {
   "cell_type": "code",
   "execution_count": 4,
   "id": "18053e95",
   "metadata": {},
   "outputs": [],
   "source": [
    "cap = cv.VideoCapture(0, cv.CAP_DSHOW)"
   ]
  },
  {
   "cell_type": "code",
   "execution_count": 5,
   "id": "29398496",
   "metadata": {},
   "outputs": [],
   "source": [
    "while True:\n",
    "    ret, frame = cap.read()\n",
    "    if not ret:\n",
    "        print('프레임 획득에 실패하여 루프를 나갑니다')\n",
    "        break\n",
    "\n",
    "    res = hand.process(cv.cvtColor(frame, cv.COLOR_BGR2RGB))\n",
    "    \n",
    "    if res.multi_hand_landmarks:\n",
    "        for landmarks in res.multi_hand_landmarks:\n",
    "            mp_drawing.draw_landmarks(frame, landmarks, mp_hand.HAND_CONNECTIONS, mp_styles.get_default_hand_landmarks_style(), mp_styles.get_default_hand_connections_style())\n",
    "            \n",
    "    cv.imshow('MediaPiPe Hands', cv.flip(frame,1))\n",
    "    if cv.waitKey(5) == ord('q'):\n",
    "        break\n",
    "    \n",
    "cap.release()\n",
    "cv.destroyAllWindows()"
   ]
  },
  {
   "cell_type": "code",
   "execution_count": null,
   "id": "312feeb0",
   "metadata": {},
   "outputs": [],
   "source": []
  }
 ],
 "metadata": {
  "kernelspec": {
   "display_name": "finger_tapping",
   "language": "python",
   "name": "python3"
  },
  "language_info": {
   "codemirror_mode": {
    "name": "ipython",
    "version": 3
   },
   "file_extension": ".py",
   "mimetype": "text/x-python",
   "name": "python",
   "nbconvert_exporter": "python",
   "pygments_lexer": "ipython3",
   "version": "3.9.23"
  }
 },
 "nbformat": 4,
 "nbformat_minor": 5
}
